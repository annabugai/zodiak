{
 "cells": [
  {
   "cell_type": "code",
   "execution_count": 3,
   "metadata": {},
   "outputs": [
    {
     "name": "stdout",
     "output_type": "stream",
     "text": [
      "Введите месяц: январь\n",
      "Введите число: 5\n",
      "Козерог\n"
     ]
    }
   ],
   "source": [
    "#         0         1        2\n",
    "months = ['Декабрь','Январь','Февраль',\n",
    "          'Март','Апрель','Май','Июнь',\n",
    "          'Июль','Август','Сентябрь',\n",
    "          'Октябрь','Ноябрь']\n",
    "\n",
    "month_string = input('Введите месяц: ')\n",
    "month_string = month_string.title()\n",
    "month = months.index(month_string)\n",
    "day = int(input('Введите число: '))\n",
    "\n",
    "if month == 0:\n",
    "    month = 12\n",
    "\n",
    "if month == 12 and day >=23 or month == 1 and day<=20:\n",
    "    print('Козерог')\n",
    "if month == 1 and day >=21 or month == 2 and day<=19:\n",
    "    print('Водолей')\n",
    "if month == 2 and day >=20 or month == 3 and day<=20:\n",
    "    print('Рыбы')\n",
    "if month == 3 and day >=21 or month == 4 and day<=20:\n",
    "    print('Овен')\n",
    "if month == 4 and day >=21 or month == 5 and day<=21:\n",
    "    print('Телец')\n",
    "if month == 5 and day >=22 or month == 6 and day<=21:\n",
    "    print('Близнецы')\n",
    "if month == 6 and day >=22 or month == 7 and day<=22:\n",
    "    print('Рак')\n",
    "if month == 7 and day >=23 or month == 8 and day<=23:\n",
    "    print('Лев')\n",
    "if month == 8 and day >=24 or month == 9 and day<=23:\n",
    "    print('Дева')\n",
    "if month == 9 and day >=24 or month == 10 and day<=23:\n",
    "    print('Весы')\n",
    "if month == 10 and day >=24 or month == 11 and day<=22:\n",
    "    print('Скорпион')\n",
    "if month == 11 and day >=23 or month == 12 and day<=22:\n",
    "    print('Стрелец')"
   ]
  },
  {
   "cell_type": "code",
   "execution_count": null,
   "metadata": {},
   "outputs": [],
   "source": []
  },
  {
   "cell_type": "code",
   "execution_count": null,
   "metadata": {},
   "outputs": [],
   "source": []
  }
 ],
 "metadata": {
  "kernelspec": {
   "display_name": "Python 3",
   "language": "python",
   "name": "python3"
  },
  "language_info": {
   "codemirror_mode": {
    "name": "ipython",
    "version": 3
   },
   "file_extension": ".py",
   "mimetype": "text/x-python",
   "name": "python",
   "nbconvert_exporter": "python",
   "pygments_lexer": "ipython3",
   "version": "3.7.4"
  }
 },
 "nbformat": 4,
 "nbformat_minor": 2
}
