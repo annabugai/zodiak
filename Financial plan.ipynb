{
 "cells": [
  {
   "cell_type": "code",
   "execution_count": 1,
   "metadata": {},
   "outputs": [
    {
     "name": "stdout",
     "output_type": "stream",
     "text": [
      "Заработная плата в месяц:\n",
      "100000\n",
      "Процент ЗП уходящий на ипотеку:\n",
      "30\n",
      "Процент зп уходящий на жизнь:\n",
      "50\n",
      "Количество премий в год:\n",
      "2\n",
      "На ипотеку было потрачено: 360000 рублей\n",
      "Было накоплено: 340000 рублей\n"
     ]
    }
   ],
   "source": [
    "print('Заработная плата в месяц:')\n",
    "rub_salary = int(input())\n",
    " \n",
    "print('Процент ЗП уходящий на ипотеку:')\n",
    "perc_mortgage = int(input())\n",
    " \n",
    "print('Процент зп уходящий на жизнь:')\n",
    "perc_life = int(input())\n",
    " \n",
    "print('Количество премий в год:')\n",
    "n_premium = int(input())\n",
    " \n",
    " \n",
    "rub_mortgage = perc_mortgage / 100 * rub_salary \n",
    "rub_life = perc_life / 100 * rub_salary\n",
    " \n",
    "rub_expenses = rub_mortgage + rub_life\n",
    " \n",
    "rub_save_salary = rub_salary - rub_expenses\n",
    " \n",
    " \n",
    "rub_premium = rub_salary\n",
    "rub_save_premium = rub_premium / 2\n",
    " \n",
    " \n",
    "rub_save_year = (12 * rub_save_salary +\n",
    " n_premium * rub_save_premium)\n",
    " \n",
    "rub_mortgage_year = 12 * rub_mortgage\n",
    " \n",
    " \n",
    "print('На ипотеку было потрачено:', int(rub_mortgage_year), 'рублей')\n",
    "print('Было накоплено:', int(rub_save_year), 'рублей')\n"
   ]
  },
  {
   "cell_type": "code",
   "execution_count": null,
   "metadata": {},
   "outputs": [],
   "source": []
  }
 ],
 "metadata": {
  "kernelspec": {
   "display_name": "Python 3",
   "language": "python",
   "name": "python3"
  },
  "language_info": {
   "codemirror_mode": {
    "name": "ipython",
    "version": 3
   },
   "file_extension": ".py",
   "mimetype": "text/x-python",
   "name": "python",
   "nbconvert_exporter": "python",
   "pygments_lexer": "ipython3",
   "version": "3.7.3"
  }
 },
 "nbformat": 4,
 "nbformat_minor": 2
}
